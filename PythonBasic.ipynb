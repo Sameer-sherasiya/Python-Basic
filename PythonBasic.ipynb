{
  "nbformat": 4,
  "nbformat_minor": 0,
  "metadata": {
    "colab": {
      "provenance": [],
      "collapsed_sections": [
        "zlAT8gEWfAGs"
      ],
      "toc_visible": true
    },
    "kernelspec": {
      "name": "python3",
      "display_name": "Python 3"
    },
    "language_info": {
      "name": "python"
    }
  },
  "cells": [
    {
      "cell_type": "markdown",
      "source": [
        "# Practical Questions\n"
      ],
      "metadata": {
        "id": "-TJuqcTxWNVc"
      }
    },
    {
      "cell_type": "markdown",
      "source": [
        "1.Write a Python program to print \"hello,world\""
      ],
      "metadata": {
        "id": "Y0Gzw3VlWdYE"
      }
    },
    {
      "cell_type": "code",
      "source": [
        "print(\"hello, world!\")"
      ],
      "metadata": {
        "colab": {
          "base_uri": "https://localhost:8080/"
        },
        "id": "c4n8WxrzW9-G",
        "outputId": "520132ce-0efc-4e8e-8b52-c83a39feae1c"
      },
      "execution_count": null,
      "outputs": [
        {
          "output_type": "stream",
          "name": "stdout",
          "text": [
            "hello, world!\n"
          ]
        }
      ]
    },
    {
      "cell_type": "markdown",
      "source": [
        "2.Write a Python program that diplays your name and age."
      ],
      "metadata": {
        "id": "BujH_WjEXJhn"
      }
    },
    {
      "cell_type": "code",
      "source": [
        "name = \"Sameer Sherasiya\"\n",
        "age = 25\n",
        "\n",
        "print(\"Name:\", name)\n",
        "print(\"Age:\", age)"
      ],
      "metadata": {
        "colab": {
          "base_uri": "https://localhost:8080/"
        },
        "id": "jWJHHx5KXXjs",
        "outputId": "3f51c066-c57b-477a-8bd2-ef3c309433b9"
      },
      "execution_count": null,
      "outputs": [
        {
          "output_type": "stream",
          "name": "stdout",
          "text": [
            "Name: Sameer Sherasiya\n",
            "Age: 25\n"
          ]
        }
      ]
    },
    {
      "cell_type": "markdown",
      "source": [
        "3.Write code to print all the pre-defined keyword in Python using the keyeord library."
      ],
      "metadata": {
        "id": "ebavOV-FXz1u"
      }
    },
    {
      "cell_type": "code",
      "source": [
        "help('keywords')"
      ],
      "metadata": {
        "colab": {
          "base_uri": "https://localhost:8080/"
        },
        "id": "nXrIMwQLYO8g",
        "outputId": "b229a797-1018-45fa-9170-e7aceaa6356f"
      },
      "execution_count": null,
      "outputs": [
        {
          "output_type": "stream",
          "name": "stdout",
          "text": [
            "\n",
            "Here is a list of the Python keywords.  Enter any keyword to get more help.\n",
            "\n",
            "False               class               from                or\n",
            "None                continue            global              pass\n",
            "True                def                 if                  raise\n",
            "and                 del                 import              return\n",
            "as                  elif                in                  try\n",
            "assert              else                is                  while\n",
            "async               except              lambda              with\n",
            "await               finally             nonlocal            yield\n",
            "break               for                 not                 \n",
            "\n"
          ]
        }
      ]
    },
    {
      "cell_type": "markdown",
      "source": [
        "4.Write a program that checks if a given word is a Python keyword."
      ],
      "metadata": {
        "id": "qC5vDXYJYlql"
      }
    },
    {
      "cell_type": "code",
      "source": [
        "import keyword\n",
        "\n",
        "word = input(\"Enter a word: \")\n",
        "if keyword.iskeyword(word):\n",
        "    print(f\"{word} is a Python keyword.\")\n",
        "else:\n",
        "     print(f\"{word} is not a Python keyword.\")"
      ],
      "metadata": {
        "colab": {
          "base_uri": "https://localhost:8080/"
        },
        "id": "abAf4msPYx92",
        "outputId": "c46f4443-0033-4f56-992e-ac5d362cd347"
      },
      "execution_count": null,
      "outputs": [
        {
          "output_type": "stream",
          "name": "stdout",
          "text": [
            "Enter a word: ss\n",
            "ss is not a Python keyword.\n"
          ]
        }
      ]
    },
    {
      "cell_type": "markdown",
      "source": [
        "5.Creat a list and tuple in Python,and demonstrate how attemping to change an element works differently for each."
      ],
      "metadata": {
        "id": "TU0-R4EbaJFN"
      }
    },
    {
      "cell_type": "code",
      "source": [
        "# List: Mutable\n",
        "\n",
        "my_list = [1, 2, 3]\n",
        "print(\"Original List:\", my_list)\n",
        "my_list[0] = 10\n",
        "print(\"Modified List:\", my_list)\n",
        "\n",
        "# Tuple: Immutable\n",
        "\n",
        "my_tuple = (1,2,3)\n",
        "print(\"\\nOriginal Tuple:\", my_tuple)\n",
        "try:\n",
        "    my_tuple[0] = 10\n",
        "except TypeError as e:\n",
        "  print(\"Error:\", e)\n"
      ],
      "metadata": {
        "colab": {
          "base_uri": "https://localhost:8080/"
        },
        "id": "XltRr5J5xrE6",
        "outputId": "d5d09a66-07f1-49f7-b28d-03656f39b1f6"
      },
      "execution_count": null,
      "outputs": [
        {
          "output_type": "stream",
          "name": "stdout",
          "text": [
            "Original List: [1, 2, 3]\n",
            "Modified List: [10, 2, 3]\n",
            "\n",
            "Original Tuple: (1, 2, 3)\n",
            "Error: 'tuple' object does not support item assignment\n"
          ]
        }
      ]
    },
    {
      "cell_type": "markdown",
      "source": [
        "6.Write a function to demonstrate the behavior of mutable and immutable arguments."
      ],
      "metadata": {
        "id": "2O2u0jTIa94A"
      }
    },
    {
      "cell_type": "code",
      "source": [
        "def test_arguments(mut_list, imm_value):\n",
        "\n",
        "     mut_list.append(100) # modify mutable argument\n",
        "     imm_value += 1       # modify immutable argument\n",
        "\n",
        "     print(\"Inside Function - List:\", mut_list)\n",
        "     print(\"Inside Function - Immutable Value:\", imm_value)\n",
        "\n",
        "\n",
        "my_list = [1, 2, 3] # mitable argument (list)\n",
        "imm_value = 5       # immutable argument (int)\n",
        "\n",
        "print(\"Before Function Call - List:\", my_list)\n",
        "print(\"Before Function Call - immutable value:\", imm_value)\n",
        "\n",
        "test_arguments(my_list, my_value)\n",
        "\n",
        "print(\"After Function Call - List:\", my_list)\n",
        "print(\"After Function Call - immutable value:\", imm_value)"
      ],
      "metadata": {
        "colab": {
          "base_uri": "https://localhost:8080/"
        },
        "id": "CnvMbXcNyvDy",
        "outputId": "484c76f2-b4ad-411c-a911-91098369ece7"
      },
      "execution_count": null,
      "outputs": [
        {
          "output_type": "stream",
          "name": "stdout",
          "text": [
            "Before Function Call -List: [1, 2, 3]\n",
            "Before Function Call immutable value: 5\n",
            "Inside Function - List: [1, 2, 3, 100]\n",
            "Inside Function - Immutable Value: 6\n",
            "After Function Call - List: [1, 2, 3, 100]\n",
            "After Function immutable value: 5\n"
          ]
        }
      ]
    },
    {
      "cell_type": "markdown",
      "source": [
        "7.Write a function to demonstrate the behavior of mutable and immutable arguments."
      ],
      "metadata": {
        "id": "27j-w37Cbb9h"
      }
    },
    {
      "cell_type": "code",
      "source": [
        "def test_arguments(mut_list, imm_value):\n",
        "\n",
        "     mut_list.append(100)\n",
        "\n",
        "     imm_value += 1\n",
        "     print(\"Inside Function - List:\", mut_list)\n",
        "     print(\"Inside Function - Immutable Value:\", imm_value)\n",
        "\n",
        "\n",
        "my_list = [1, 2, 3]\n",
        "imm_value = 5\n",
        "\n",
        "print(\"Before Function Call -List:\", my_list)\n",
        "print(\"Before Function Call -immutable value:\", imm_value)\n",
        "\n",
        "test_arguments(my_list, my_value)\n",
        "\n",
        "print(\"After Function Call - List:\", my_list)\n",
        "print(\"After Function Call - immutable value:\", imm_value)"
      ],
      "metadata": {
        "colab": {
          "base_uri": "https://localhost:8080/"
        },
        "id": "HjNTv_mf0rva",
        "outputId": "26380794-9572-4777-890f-da2e791cf312"
      },
      "execution_count": null,
      "outputs": [
        {
          "output_type": "stream",
          "name": "stdout",
          "text": [
            "Before Function Call -List: [1, 2, 3]\n",
            "Before Function Call -immutable value: 5\n",
            "Inside Function - List: [1, 2, 3, 100]\n",
            "Inside Function - Immutable Value: 6\n",
            "After Function Call - List: [1, 2, 3, 100]\n",
            "After Function Call - immutable value: 5\n"
          ]
        }
      ]
    },
    {
      "cell_type": "markdown",
      "source": [
        "8.Write a program to demonstrate the use of logical operator."
      ],
      "metadata": {
        "id": "4_ATI3M3bcAm"
      }
    },
    {
      "cell_type": "code",
      "source": [
        "a = 5\n",
        "b = 10\n",
        "c = 15\n",
        "\n",
        "print(\"Logical Operators:\")\n",
        "print(\"a > b and b < c:\", a > b and b < c) # false\n",
        "print(\"a < b or b > c:\", a < b or b > c)   # true\n",
        "print(\"not (a > b):\", not (a > b))         #true"
      ],
      "metadata": {
        "colab": {
          "base_uri": "https://localhost:8080/"
        },
        "id": "4qSqFupl1X_n",
        "outputId": "dc8dd1ec-bcfb-4fec-c278-cb4d1ea39d72"
      },
      "execution_count": null,
      "outputs": [
        {
          "output_type": "stream",
          "name": "stdout",
          "text": [
            "Logical Operators:\n",
            "a > b and b < c: False\n",
            "a < b or b > c: True\n",
            "not (a > b): True\n"
          ]
        }
      ]
    },
    {
      "cell_type": "markdown",
      "source": [
        "9.Write a Python program to convert user input from string to integer,float,and boolean types."
      ],
      "metadata": {
        "id": "Sa_CbwrabcDo"
      }
    },
    {
      "cell_type": "code",
      "source": [
        "user_input = input(\"Enter a value: \")\n",
        "\n",
        "int_value = int(user_input)\n",
        "float_value = float(user_input)\n",
        "bool_value = bool(user_input)\n",
        "\n",
        "print(\"As Integer:\", int_value)\n",
        "print(\"As Float:\", float_value)\n",
        "print(\"As boolean:\",bool_value)"
      ],
      "metadata": {
        "colab": {
          "base_uri": "https://localhost:8080/"
        },
        "id": "qbWnQ6D_1YnY",
        "outputId": "3dbaceed-f05e-4d47-f4d9-fce6a096229f"
      },
      "execution_count": null,
      "outputs": [
        {
          "output_type": "stream",
          "name": "stdout",
          "text": [
            "Enter a value: 5\n",
            "As Integer: 5\n",
            "As Float: 5.0\n",
            "As boolean: True\n"
          ]
        }
      ]
    },
    {
      "cell_type": "markdown",
      "source": [
        "10.Write code to demonstrate type casting withlist element."
      ],
      "metadata": {
        "id": "STYcegYxbcFi"
      }
    },
    {
      "cell_type": "code",
      "source": [
        "\n",
        "# Original list of string\n",
        "str_list = [\"1\", \"2\", \"3\", \"4\", \"5\"]\n",
        "int_list = [int(x) for x in str_list]      # Casting to integers\n",
        "float_list = [float(x) for x in str_list]  # Casting to float\n",
        "\n",
        "print(\"String List:\", str_list)\n",
        "print(\"Integer List:\", int_list)\n",
        "print(\"Float List:\", float_list)"
      ],
      "metadata": {
        "colab": {
          "base_uri": "https://localhost:8080/"
        },
        "id": "7wn4bJY21ZNG",
        "outputId": "7773c889-832e-472c-c443-f373f9d40a7e"
      },
      "execution_count": null,
      "outputs": [
        {
          "output_type": "stream",
          "name": "stdout",
          "text": [
            "String List: ['1', '2', '3', '4', '5']\n",
            "Integer List: [1, 2, 3, 4, 5]\n",
            "Float List: [1.0, 2.0, 3.0, 4.0, 5.0]\n"
          ]
        }
      ]
    },
    {
      "cell_type": "markdown",
      "source": [
        "11.Write a program that checks if a number is positive, negative, or zero."
      ],
      "metadata": {
        "id": "QODJDFiKbcIQ"
      }
    },
    {
      "cell_type": "code",
      "source": [
        "num = float(input(\"Enter a number: \"))\n",
        "\n",
        "if num > 0:\n",
        "    print(\"The number is positive.\")\n",
        "elif num < 0:\n",
        "    print(\"The number is negative.\")\n",
        "else:\n",
        "    print(\"The number is zero.\")"
      ],
      "metadata": {
        "colab": {
          "base_uri": "https://localhost:8080/"
        },
        "id": "oRzNsAAm1Z2T",
        "outputId": "e345e999-847f-4d95-949d-56cbb7186bce"
      },
      "execution_count": null,
      "outputs": [
        {
          "output_type": "stream",
          "name": "stdout",
          "text": [
            "Enter a number: 6\n",
            "The number is positive.\n"
          ]
        }
      ]
    },
    {
      "cell_type": "markdown",
      "source": [
        "12.Write a for loop to print number from 1 to 10."
      ],
      "metadata": {
        "id": "Dt5BWTE2bcLr"
      }
    },
    {
      "cell_type": "code",
      "source": [
        "for i in range(1, 11):\n",
        "    print(i)"
      ],
      "metadata": {
        "colab": {
          "base_uri": "https://localhost:8080/"
        },
        "id": "dFt71LKC1aRT",
        "outputId": "78d6d878-418d-445c-e8ad-168438711622"
      },
      "execution_count": null,
      "outputs": [
        {
          "output_type": "stream",
          "name": "stdout",
          "text": [
            "1\n",
            "2\n",
            "3\n",
            "4\n",
            "5\n",
            "6\n",
            "7\n",
            "8\n",
            "9\n",
            "10\n"
          ]
        }
      ]
    },
    {
      "cell_type": "markdown",
      "source": [
        "13.Write a Python program to find the sum of all even numbers between 1 and 50."
      ],
      "metadata": {
        "id": "qDHCXkgtdT2J"
      }
    },
    {
      "cell_type": "code",
      "source": [
        "even_sum = 0\n",
        "\n",
        "for num in range(2, 51, 2):\n",
        "    even_sum += num\n",
        "\n",
        "print(\"The sum of even numbers between 1 and 50 is:\", even_sum)"
      ],
      "metadata": {
        "colab": {
          "base_uri": "https://localhost:8080/"
        },
        "id": "z7JT-2Mp1a8g",
        "outputId": "6dceed31-2db9-46ba-b3a8-7c83a9443e9a"
      },
      "execution_count": null,
      "outputs": [
        {
          "output_type": "stream",
          "name": "stdout",
          "text": [
            "The sum of even numbers between 1 and 50 is: 650\n"
          ]
        }
      ]
    },
    {
      "cell_type": "markdown",
      "source": [
        "14.Write a program to reverse a srting using a while loop."
      ],
      "metadata": {
        "id": "vEifbM8CdUEu"
      }
    },
    {
      "cell_type": "code",
      "source": [
        "s = input(\"Enter a string: \")\n",
        "\n",
        "reversed_string = \"\"\n",
        "index = len(s) - 1\n",
        "\n",
        "while index >= 0:\n",
        "    reversed_string += s[index]\n",
        "    index -= 1\n",
        "\n",
        "print(\"Reversed String:\", reversed_string)"
      ],
      "metadata": {
        "colab": {
          "base_uri": "https://localhost:8080/"
        },
        "id": "PdGSAp4M1bZ6",
        "outputId": "85272d14-124a-49eb-b2ba-b22a91758b6d"
      },
      "execution_count": null,
      "outputs": [
        {
          "output_type": "stream",
          "name": "stdout",
          "text": [
            "Enter a string: sameer\n",
            "Reversed String: reemas\n"
          ]
        }
      ]
    },
    {
      "cell_type": "markdown",
      "source": [
        "15.Write a Python program to calculate the factorial of a number provided by the user using a while loop."
      ],
      "metadata": {
        "id": "08UWvpyedUSQ"
      }
    },
    {
      "cell_type": "code",
      "source": [
        "num = int(input(\"Enter a number: \"))\n",
        "\n",
        "factorial = 1\n",
        "current = 1\n",
        "\n",
        "while current <= num:\n",
        "    factorial *= current\n",
        "    current += 1\n",
        "\n",
        "print(f\"The factorial of {num} is {factorial}\")"
      ],
      "metadata": {
        "colab": {
          "base_uri": "https://localhost:8080/"
        },
        "id": "L3MjN6Ha1b2x",
        "outputId": "ccc36f2b-6fc0-43e1-a87b-c5702be4ac2b"
      },
      "execution_count": null,
      "outputs": [
        {
          "output_type": "stream",
          "name": "stdout",
          "text": [
            "Enter a number: 6\n",
            "The factorial of 6 is 720\n"
          ]
        }
      ]
    },
    {
      "cell_type": "markdown",
      "source": [
        "# Python Basic\n"
      ],
      "metadata": {
        "id": "zlAT8gEWfAGs"
      }
    },
    {
      "cell_type": "markdown",
      "source": [
        "1.what is Python, and why is it popular?\n",
        "  - Python is a simple and easy-to-learn programing language used for many purpose like web development, data analysis, data science and AI.\n",
        "  -It is popular because it has clear syntax, works on all platforms,many read-to-use libraries,and has great community support.\n",
        "\n"
      ],
      "metadata": {
        "id": "TrLfyy5tf997"
      }
    },
    {
      "cell_type": "markdown",
      "source": [
        "2.what is an interpreter in Python?\n",
        "  - An interpreter in Python is a tool that runs Python code line by line. It helps execute programs directly, making it easy to test and fix error quickly.\n",
        "\n"
      ],
      "metadata": {
        "id": "eCZd9cQ_nEDC"
      }
    },
    {
      "cell_type": "markdown",
      "source": [
        "\n",
        "3.what are Pre-defined keywords in Python?\n",
        "  - Pre-defined keyword in Python are special words that have specific meaning and are used to write Python programing. You can't use them as variable names. Examples are **if, else, while, for,** and **def**. these keyword help define the structure and logic of Python programs.\n"
      ],
      "metadata": {
        "id": "bOiNoQ5nnjAM"
      }
    },
    {
      "cell_type": "markdown",
      "source": [
        "\n",
        "4.Can keyword be used as variable names?\n",
        "  - No, keyword cannot be used as variable names in Python because they are special words with specific purposes. For example, you cannot use **if** ar **for** as a variable name."
      ],
      "metadata": {
        "id": "YjTh8zD5nWhi"
      }
    },
    {
      "cell_type": "code",
      "source": [
        "#example\n",
        "if = 5\n",
        "if"
      ],
      "metadata": {
        "colab": {
          "base_uri": "https://localhost:8080/",
          "height": 106
        },
        "id": "EitgYI_KoLL1",
        "outputId": "f0f72b17-3b0d-4d37-9d9c-ee5e7f4c3925"
      },
      "execution_count": null,
      "outputs": [
        {
          "output_type": "error",
          "ename": "SyntaxError",
          "evalue": "invalid syntax (<ipython-input-31-8b4ba2f58efe>, line 2)",
          "traceback": [
            "\u001b[0;36m  File \u001b[0;32m\"<ipython-input-31-8b4ba2f58efe>\"\u001b[0;36m, line \u001b[0;32m2\u001b[0m\n\u001b[0;31m    if = 5\u001b[0m\n\u001b[0m       ^\u001b[0m\n\u001b[0;31mSyntaxError\u001b[0m\u001b[0;31m:\u001b[0m invalid syntax\n"
          ]
        }
      ]
    },
    {
      "cell_type": "markdown",
      "source": [
        "5.What is mutability in Python?\n",
        "  - Mutability in Python means whether you can change the value of an object after it's created.\n",
        "    - **Mutable objects** (like list) can be changed.\n",
        "    - **Immutable objects** (like string) cannot be changed once they are created."
      ],
      "metadata": {
        "id": "CwlQyQU8ojDU"
      }
    },
    {
      "cell_type": "markdown",
      "source": [
        "6.Why are list mutable, but tuples are immutable?\n",
        "  - list are mutable because you can change their contents, like adding or removing items.\n",
        "  - Tuple are immutable because once you create them, you can't change their values. This makes tuples safer to use when you don't want the data to be accidentally changed."
      ],
      "metadata": {
        "id": "c8GydnRdqER7"
      }
    },
    {
      "cell_type": "code",
      "source": [
        "#exampel list is mutable\n",
        "my_list = [1, 2, 3]\n",
        "my_list[0] = 10\n",
        "print(my_list)"
      ],
      "metadata": {
        "colab": {
          "base_uri": "https://localhost:8080/"
        },
        "id": "LVoMMT2vr_r_",
        "outputId": "a366c805-8253-4bcc-ec83-6cda11b8488a"
      },
      "execution_count": null,
      "outputs": [
        {
          "output_type": "stream",
          "name": "stdout",
          "text": [
            "[10, 2, 3]\n"
          ]
        }
      ]
    },
    {
      "cell_type": "code",
      "source": [
        "#example tuple is immutable\n",
        "my_tuple = (1, 2, 3)\n",
        "my_tuple[0] = 10\n",
        "print(my_tuple)"
      ],
      "metadata": {
        "colab": {
          "base_uri": "https://localhost:8080/",
          "height": 193
        },
        "id": "CJjNYVswseVa",
        "outputId": "618d115e-f352-453d-c0a4-8893beba1364"
      },
      "execution_count": null,
      "outputs": [
        {
          "output_type": "error",
          "ename": "TypeError",
          "evalue": "'tuple' object does not support item assignment",
          "traceback": [
            "\u001b[0;31m---------------------------------------------------------------------------\u001b[0m",
            "\u001b[0;31mTypeError\u001b[0m                                 Traceback (most recent call last)",
            "\u001b[0;32m<ipython-input-29-ed28358c2a03>\u001b[0m in \u001b[0;36m<cell line: 3>\u001b[0;34m()\u001b[0m\n\u001b[1;32m      1\u001b[0m \u001b[0;34m\"\"\"example tuple is immutable\"\"\"\u001b[0m\u001b[0;34m\u001b[0m\u001b[0;34m\u001b[0m\u001b[0m\n\u001b[1;32m      2\u001b[0m \u001b[0mmy_tuple\u001b[0m \u001b[0;34m=\u001b[0m \u001b[0;34m(\u001b[0m\u001b[0;36m1\u001b[0m\u001b[0;34m,\u001b[0m \u001b[0;36m2\u001b[0m\u001b[0;34m,\u001b[0m \u001b[0;36m3\u001b[0m\u001b[0;34m)\u001b[0m\u001b[0;34m\u001b[0m\u001b[0;34m\u001b[0m\u001b[0m\n\u001b[0;32m----> 3\u001b[0;31m \u001b[0mmy_tuple\u001b[0m\u001b[0;34m[\u001b[0m\u001b[0;36m0\u001b[0m\u001b[0;34m]\u001b[0m \u001b[0;34m=\u001b[0m \u001b[0;36m10\u001b[0m\u001b[0;34m\u001b[0m\u001b[0;34m\u001b[0m\u001b[0m\n\u001b[0m\u001b[1;32m      4\u001b[0m \u001b[0mprint\u001b[0m\u001b[0;34m(\u001b[0m\u001b[0mmy_tuple\u001b[0m\u001b[0;34m)\u001b[0m\u001b[0;34m\u001b[0m\u001b[0;34m\u001b[0m\u001b[0m\n",
            "\u001b[0;31mTypeError\u001b[0m: 'tuple' object does not support item assignment"
          ]
        }
      ]
    },
    {
      "cell_type": "markdown",
      "source": [
        "7.What is the difference between \"==\" and \"is\" operator in python?\n",
        "  - In Python:\n",
        "    - **\"==\"** checks if two values are the same.\n",
        "    - **\"is\"** checks if two variable refer to the same object in memory.\n",
        "   \n",
        "   so, **==** compares values, and  **is** checks identity."
      ],
      "metadata": {
        "id": "dZtQOn3Us5Kr"
      }
    },
    {
      "cell_type": "code",
      "source": [
        "#example\n",
        "a = [1, 2]\n",
        "b = [1, 2]\n",
        "\n",
        "print(a == b)\n",
        "print(a is b)"
      ],
      "metadata": {
        "id": "FMg4J4fhujmh"
      },
      "execution_count": null,
      "outputs": []
    },
    {
      "cell_type": "markdown",
      "source": [
        "8.What are logical operator in python?\n",
        "  - Logical operator in Python are used to combine conditions:\n",
        "    - **and**: Returns True if both conditions are True.\n",
        "    - **or**: Return True if at least one conditions is True.\n",
        "    - **not**: Reverses the result, returns True if the condition is False."
      ],
      "metadata": {
        "id": "O9ROGLjPu7Mf"
      }
    },
    {
      "cell_type": "code",
      "source": [
        "x = 5\n",
        "y = 10\n",
        "\n",
        "print(x > 3 and y < 15)\n",
        "print(x > 3 or y > 15)\n",
        "print(not(x > 3))"
      ],
      "metadata": {
        "id": "2WsNnCFXwbtJ"
      },
      "execution_count": null,
      "outputs": []
    },
    {
      "cell_type": "markdown",
      "source": [
        "9.What is type casting in Python?\n",
        "  - Type casting in Python is the process of converting one data type into another. it can be done explicity using built-in functions.\n",
        "   - **Explicit casting**: Converting one data type to another manually using functions like **int()**, **float()**, **str()**, ext.\n",
        "\n",
        "\n",
        "   Type casting helps you work with different types of data as needed"
      ],
      "metadata": {
        "id": "RWl51D0sw7UF"
      }
    },
    {
      "cell_type": "code",
      "source": [
        "x = 5.7\n",
        "y = int(x)\n",
        "\n",
        "a = 10\n",
        "b = str(a)\n",
        "\n",
        "s = \"3.14\"\n",
        "f = float(s)\n",
        "\n",
        "print(y)\n",
        "print(b)\n",
        "print(f)\n"
      ],
      "metadata": {
        "id": "LZSr5Y43y8up"
      },
      "execution_count": null,
      "outputs": []
    },
    {
      "cell_type": "markdown",
      "source": [
        "10.What is the difference implicit and explicit type casting?\n",
        "   - **Implicit vs Explicit Type Casting in Python**:\n",
        "        - **Implicit Type Casting (Automatic)**:Python automatically changes one data type to another when needed, like changing an integer to a float without you asking for it.\n",
        "        - **Explicit Type Casting (manual)**:You manually change a data type using functions like **int()**, **float()**, or**str()**.\n",
        "\n",
        "        so,**implicit** is automatic, and **explicit** is when you tell Python to do it."
      ],
      "metadata": {
        "id": "qXxOxRQk82Ga"
      }
    },
    {
      "cell_type": "code",
      "source": [
        "#example implicit\n",
        "x = 5\n",
        "y = 2.5\n",
        "z = x + y\n",
        "\n",
        "#example explicit\n",
        "a = 5.7\n",
        "b = int(a)\n",
        "\n",
        "print(z)\n",
        "print(b)"
      ],
      "metadata": {
        "id": "7HhrQR0C_jSp"
      },
      "execution_count": null,
      "outputs": []
    },
    {
      "cell_type": "markdown",
      "source": [
        "11.What is purpose of conditional statement in Python?\n",
        "   - Conditional statement in Python are used to make decisions in your code. They allow the program to execute different actions based on certain conditions being true or flase.\n",
        "\n",
        "   The main types of conditional statements are:\n",
        "    - **if**: Executes a block of code if the condition is true.\n",
        "    - **elif**: Checks another condition if the previous one was false.\n",
        "    - **else**: Executes a block of code if none of the previous conditions were true.\n",
        "\n",
        "    Conditional statements help control the flow of the program based on different situations."
      ],
      "metadata": {
        "id": "IakfgfwUAOff"
      }
    },
    {
      "cell_type": "code",
      "source": [
        "x = 10\n",
        "\n",
        "if x > 5:\n",
        "    print(\"x is greater than 5\")\n",
        "elif x == 5:\n",
        "    print(\"x is equal to 5\")\n",
        "else:\n",
        "    print(\"x is less than 5\")"
      ],
      "metadata": {
        "id": "tcyjIaNBCXJt"
      },
      "execution_count": null,
      "outputs": []
    },
    {
      "cell_type": "markdown",
      "source": [
        "12.How does the elif statement work?\n",
        "   - The **elif** statement in Python is used to check additional conditions if the **if** condition is false. It lets you check multiple conditions, one after the other.\n",
        "   If one of the **elif** conditions is true, it runs that block of code."
      ],
      "metadata": {
        "id": "RiZLkchBC4Rn"
      }
    },
    {
      "cell_type": "code",
      "source": [
        "x = 10\n",
        "\n",
        "if x > 5:\n",
        "    print(\"x is greater than 5\")\n",
        "elif x == 5:\n",
        "    print(\"x is equal to 5\")\n",
        "else:\n",
        "    print(\"x is less than 5\")"
      ],
      "metadata": {
        "id": "i2XQ6E5nEDoO"
      },
      "execution_count": null,
      "outputs": []
    },
    {
      "cell_type": "markdown",
      "source": [
        "here, Python first checks if **x>15**. If false, it checks if **x>5**. If that's true, it prins the corresponding message. If none of conditions are true, it runs the **else** block."
      ],
      "metadata": {
        "id": "8F8Bo_MsENdQ"
      }
    },
    {
      "cell_type": "markdown",
      "source": [
        "13.What is the difference between for and while loops?\n",
        "   - **for loop**: used when you know how many times you want to repeat something. It goes through a sequence (like a lost or range) and runs the code for each item."
      ],
      "metadata": {
        "id": "2mD96FPwFqF1"
      }
    },
    {
      "cell_type": "code",
      "source": [
        "for i in range(5):\n",
        "  print(i)"
      ],
      "metadata": {
        "id": "ruoRt2pnGmhF"
      },
      "execution_count": null,
      "outputs": []
    },
    {
      "cell_type": "markdown",
      "source": [
        "- **while loop**: Used when you don't know how many time you need to repeat something, and you want to keep repeating it as long as a condition is true"
      ],
      "metadata": {
        "id": "Jbf7nAYhGx2r"
      }
    },
    {
      "cell_type": "code",
      "source": [
        "i = 0\n",
        "while i <5:\n",
        "  print(i)\n",
        "  i+=1"
      ],
      "metadata": {
        "id": "RJrhp96eHL8v"
      },
      "execution_count": null,
      "outputs": []
    },
    {
      "cell_type": "markdown",
      "source": [
        "So, **for** loops are for a set number of times, while **while** loops keep running until a condition is met."
      ],
      "metadata": {
        "id": "GWAhrLddHVyp"
      }
    },
    {
      "cell_type": "markdown",
      "source": [
        "14.Describe a scenario where a while loop is more suitable than a for loop.\n",
        "   - A **while loop** is better when you don't know how many times you need to repeat something, and you want to keep going until a certain condition is met.\n",
        "\n",
        " **Example scenario:**\n",
        "\n",
        " Imagine you're making a game where the player has to guess a secret number. The ame should keep asking the player to guess until they get it right. You don't know how many guesses it will take, so a **while loop** works well"
      ],
      "metadata": {
        "id": "dBIuPvOKHoC2"
      }
    },
    {
      "cell_type": "code",
      "source": [
        "secret_number = 7\n",
        "guess = 0\n",
        "\n",
        "while guess != secret_number:\n",
        "  guess = int(input(\"guessthe secret number: \"))\n",
        "\n",
        "print(\"Correct! tou guessed the number.\")"
      ],
      "metadata": {
        "id": "o_hCXWchJH4r"
      },
      "execution_count": null,
      "outputs": []
    },
    {
      "cell_type": "markdown",
      "source": [
        "Here, the loop will keep runing until the player guesses the right number, and you don't know how many guesses will be needed"
      ],
      "metadata": {
        "id": "r7jyCpPXPHOt"
      }
    }
  ]
}